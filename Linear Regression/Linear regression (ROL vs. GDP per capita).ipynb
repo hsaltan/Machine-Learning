{
 "cells": [
  {
   "cell_type": "markdown",
   "metadata": {},
   "source": [
    "## Linear Regression and Related Concepts"
   ]
  },
  {
   "cell_type": "markdown",
   "metadata": {},
   "source": [
    "### Import Libraries"
   ]
  },
  {
   "cell_type": "code",
   "execution_count": 1,
   "metadata": {},
   "outputs": [],
   "source": [
    "import pandas as pd\n",
    "import numpy as np\n",
    "import matplotlib.pyplot as plt\n",
    "import seaborn as sns\n",
    "import statsmodels.api as sm\n",
    "import statsmodels.formula.api as smf\n",
    "from statsmodels.stats.stattools import durbin_watson, jarque_bera\n",
    "from statsmodels.stats.diagnostic import het_breuschpagan\n",
    "from statsmodels.stats.outliers_influence import OLSInfluence, variance_inflation_factor\n",
    "from statsmodels.graphics.regressionplots import plot_leverage_resid2\n",
    "%matplotlib inline"
   ]
  },
  {
   "cell_type": "markdown",
   "metadata": {},
   "source": [
    "### Formatting"
   ]
  },
  {
   "cell_type": "code",
   "execution_count": 2,
   "metadata": {},
   "outputs": [],
   "source": [
    "pd.set_option('display.max_colwidth', 1000)\n",
    "pd.set_option(\"precision\", 2)\n",
    "pd.set_option(\"max_rows\", 150)\n",
    "sns.set_style('whitegrid')"
   ]
  },
  {
   "cell_type": "markdown",
   "metadata": {},
   "source": [
    "### Check out the Data"
   ]
  },
  {
   "cell_type": "code",
   "execution_count": 3,
   "metadata": {},
   "outputs": [
    {
     "data": {
      "text/html": [
       "<div>\n",
       "<style scoped>\n",
       "    .dataframe tbody tr th:only-of-type {\n",
       "        vertical-align: middle;\n",
       "    }\n",
       "\n",
       "    .dataframe tbody tr th {\n",
       "        vertical-align: top;\n",
       "    }\n",
       "\n",
       "    .dataframe thead th {\n",
       "        text-align: right;\n",
       "    }\n",
       "</style>\n",
       "<table border=\"1\" class=\"dataframe\">\n",
       "  <thead>\n",
       "    <tr style=\"text-align: right;\">\n",
       "      <th></th>\n",
       "      <th>Country</th>\n",
       "      <th>2017 GDP per Capita</th>\n",
       "    </tr>\n",
       "  </thead>\n",
       "  <tbody>\n",
       "    <tr>\n",
       "      <th>0</th>\n",
       "      <td>Aruba</td>\n",
       "      <td>25630.27</td>\n",
       "    </tr>\n",
       "    <tr>\n",
       "      <th>1</th>\n",
       "      <td>Afghanistan</td>\n",
       "      <td>556.30</td>\n",
       "    </tr>\n",
       "    <tr>\n",
       "      <th>2</th>\n",
       "      <td>Angola</td>\n",
       "      <td>4095.81</td>\n",
       "    </tr>\n",
       "    <tr>\n",
       "      <th>3</th>\n",
       "      <td>Albania</td>\n",
       "      <td>4532.89</td>\n",
       "    </tr>\n",
       "    <tr>\n",
       "      <th>4</th>\n",
       "      <td>Andorra</td>\n",
       "      <td>39134.39</td>\n",
       "    </tr>\n",
       "    <tr>\n",
       "      <th>5</th>\n",
       "      <td>Arab World</td>\n",
       "      <td>6284.74</td>\n",
       "    </tr>\n",
       "    <tr>\n",
       "      <th>6</th>\n",
       "      <td>United Arab Emirates</td>\n",
       "      <td>40325.38</td>\n",
       "    </tr>\n",
       "    <tr>\n",
       "      <th>7</th>\n",
       "      <td>Argentina</td>\n",
       "      <td>14591.86</td>\n",
       "    </tr>\n",
       "    <tr>\n",
       "      <th>8</th>\n",
       "      <td>Armenia</td>\n",
       "      <td>3914.50</td>\n",
       "    </tr>\n",
       "    <tr>\n",
       "      <th>9</th>\n",
       "      <td>American Samoa</td>\n",
       "      <td>11398.78</td>\n",
       "    </tr>\n",
       "  </tbody>\n",
       "</table>\n",
       "</div>"
      ],
      "text/plain": [
       "                Country  2017 GDP per Capita\n",
       "0                 Aruba             25630.27\n",
       "1           Afghanistan               556.30\n",
       "2                Angola              4095.81\n",
       "3               Albania              4532.89\n",
       "4               Andorra             39134.39\n",
       "5            Arab World              6284.74\n",
       "6  United Arab Emirates             40325.38\n",
       "7             Argentina             14591.86\n",
       "8               Armenia              3914.50\n",
       "9        American Samoa             11398.78"
      ]
     },
     "execution_count": 3,
     "metadata": {},
     "output_type": "execute_result"
    }
   ],
   "source": [
    "# 1. GDP per capita table formation\n",
    "\n",
    "GDPPerCapita = pd.read_excel('GDP_percapita.xls')\n",
    "GDPPerCapita.dropna(how = \"any\", inplace = True)\n",
    "GDPPerCapita.rename(columns={'Country Name':'Country', '2017': '2017 GDP per Capita'}, inplace=True)\n",
    "GDPPerCapita.head(10)"
   ]
  },
  {
   "cell_type": "code",
   "execution_count": 4,
   "metadata": {},
   "outputs": [
    {
     "name": "stdout",
     "output_type": "stream",
     "text": [
      "<class 'pandas.core.frame.DataFrame'>\n",
      "Int64Index: 246 entries, 0 to 263\n",
      "Data columns (total 2 columns):\n",
      "Country                246 non-null object\n",
      "2017 GDP per Capita    246 non-null float64\n",
      "dtypes: float64(1), object(1)\n",
      "memory usage: 5.8+ KB\n"
     ]
    }
   ],
   "source": [
    "GDPPerCapita.info()"
   ]
  },
  {
   "cell_type": "code",
   "execution_count": 5,
   "metadata": {},
   "outputs": [
    {
     "data": {
      "text/html": [
       "<div>\n",
       "<style scoped>\n",
       "    .dataframe tbody tr th:only-of-type {\n",
       "        vertical-align: middle;\n",
       "    }\n",
       "\n",
       "    .dataframe tbody tr th {\n",
       "        vertical-align: top;\n",
       "    }\n",
       "\n",
       "    .dataframe thead th {\n",
       "        text-align: right;\n",
       "    }\n",
       "</style>\n",
       "<table border=\"1\" class=\"dataframe\">\n",
       "  <thead>\n",
       "    <tr style=\"text-align: right;\">\n",
       "      <th></th>\n",
       "      <th>Country</th>\n",
       "      <th>2017 Rule of Law Index</th>\n",
       "    </tr>\n",
       "  </thead>\n",
       "  <tbody>\n",
       "    <tr>\n",
       "      <th>0</th>\n",
       "      <td>Afghanistan</td>\n",
       "      <td>0.34</td>\n",
       "    </tr>\n",
       "    <tr>\n",
       "      <th>1</th>\n",
       "      <td>Albania</td>\n",
       "      <td>0.51</td>\n",
       "    </tr>\n",
       "    <tr>\n",
       "      <th>2</th>\n",
       "      <td>Antigua and Barbuda</td>\n",
       "      <td>0.63</td>\n",
       "    </tr>\n",
       "    <tr>\n",
       "      <th>3</th>\n",
       "      <td>Argentina</td>\n",
       "      <td>0.58</td>\n",
       "    </tr>\n",
       "    <tr>\n",
       "      <th>4</th>\n",
       "      <td>Australia</td>\n",
       "      <td>0.81</td>\n",
       "    </tr>\n",
       "    <tr>\n",
       "      <th>5</th>\n",
       "      <td>Austria</td>\n",
       "      <td>0.81</td>\n",
       "    </tr>\n",
       "    <tr>\n",
       "      <th>6</th>\n",
       "      <td>Bahamas</td>\n",
       "      <td>0.6</td>\n",
       "    </tr>\n",
       "    <tr>\n",
       "      <th>7</th>\n",
       "      <td>Bangladesh</td>\n",
       "      <td>0.41</td>\n",
       "    </tr>\n",
       "    <tr>\n",
       "      <th>8</th>\n",
       "      <td>Barbados</td>\n",
       "      <td>0.65</td>\n",
       "    </tr>\n",
       "    <tr>\n",
       "      <th>9</th>\n",
       "      <td>Belarus</td>\n",
       "      <td>0.51</td>\n",
       "    </tr>\n",
       "  </tbody>\n",
       "</table>\n",
       "</div>"
      ],
      "text/plain": [
       "               Country 2017 Rule of Law Index\n",
       "0          Afghanistan                   0.34\n",
       "1              Albania                   0.51\n",
       "2  Antigua and Barbuda                   0.63\n",
       "3            Argentina                   0.58\n",
       "4            Australia                   0.81\n",
       "5              Austria                   0.81\n",
       "6              Bahamas                    0.6\n",
       "7           Bangladesh                   0.41\n",
       "8             Barbados                   0.65\n",
       "9              Belarus                   0.51"
      ]
     },
     "execution_count": 5,
     "metadata": {},
     "output_type": "execute_result"
    }
   ],
   "source": [
    "# 2. Rule of Law Index table formation \n",
    "\n",
    "RuleOfLaw = pd.read_excel('ROL_Historical.xlsx', sheet_name='WJP ROL Index 2017-2018 Scores')\n",
    "RuleOfLaw = RuleOfLaw.transpose()\n",
    "RuleOfLaw=RuleOfLaw.iloc[:,3]\n",
    "RuleOfLaw = RuleOfLaw.to_frame()\n",
    "RuleOfLaw.drop('Country', inplace=True)\n",
    "RuleOfLaw.reset_index(drop = False, inplace = True)\n",
    "RuleOfLaw.rename(columns={'index':'Country', 3: '2017 Rule of Law Index'}, inplace=True)\n",
    "RuleOfLaw.head(10)"
   ]
  },
  {
   "cell_type": "code",
   "execution_count": 6,
   "metadata": {},
   "outputs": [
    {
     "name": "stdout",
     "output_type": "stream",
     "text": [
      "<class 'pandas.core.frame.DataFrame'>\n",
      "RangeIndex: 113 entries, 0 to 112\n",
      "Data columns (total 2 columns):\n",
      "Country                   113 non-null object\n",
      "2017 Rule of Law Index    113 non-null object\n",
      "dtypes: object(2)\n",
      "memory usage: 1.9+ KB\n"
     ]
    }
   ],
   "source": [
    "RuleOfLaw.info()"
   ]
  },
  {
   "cell_type": "code",
   "execution_count": 7,
   "metadata": {},
   "outputs": [
    {
     "data": {
      "text/html": [
       "<div>\n",
       "<style scoped>\n",
       "    .dataframe tbody tr th:only-of-type {\n",
       "        vertical-align: middle;\n",
       "    }\n",
       "\n",
       "    .dataframe tbody tr th {\n",
       "        vertical-align: top;\n",
       "    }\n",
       "\n",
       "    .dataframe thead th {\n",
       "        text-align: right;\n",
       "    }\n",
       "</style>\n",
       "<table border=\"1\" class=\"dataframe\">\n",
       "  <thead>\n",
       "    <tr style=\"text-align: right;\">\n",
       "      <th></th>\n",
       "      <th>Country</th>\n",
       "      <th>2017 HDI Score</th>\n",
       "    </tr>\n",
       "  </thead>\n",
       "  <tbody>\n",
       "    <tr>\n",
       "      <th>0</th>\n",
       "      <td>Afghanistan</td>\n",
       "      <td>0.50</td>\n",
       "    </tr>\n",
       "    <tr>\n",
       "      <th>1</th>\n",
       "      <td>Albania</td>\n",
       "      <td>0.79</td>\n",
       "    </tr>\n",
       "    <tr>\n",
       "      <th>2</th>\n",
       "      <td>Algeria</td>\n",
       "      <td>0.75</td>\n",
       "    </tr>\n",
       "    <tr>\n",
       "      <th>3</th>\n",
       "      <td>Andorra</td>\n",
       "      <td>0.86</td>\n",
       "    </tr>\n",
       "    <tr>\n",
       "      <th>4</th>\n",
       "      <td>Angola</td>\n",
       "      <td>0.58</td>\n",
       "    </tr>\n",
       "    <tr>\n",
       "      <th>5</th>\n",
       "      <td>Antigua and Barbuda</td>\n",
       "      <td>0.78</td>\n",
       "    </tr>\n",
       "    <tr>\n",
       "      <th>6</th>\n",
       "      <td>Argentina</td>\n",
       "      <td>0.82</td>\n",
       "    </tr>\n",
       "    <tr>\n",
       "      <th>7</th>\n",
       "      <td>Armenia</td>\n",
       "      <td>0.76</td>\n",
       "    </tr>\n",
       "    <tr>\n",
       "      <th>8</th>\n",
       "      <td>Australia</td>\n",
       "      <td>0.94</td>\n",
       "    </tr>\n",
       "    <tr>\n",
       "      <th>9</th>\n",
       "      <td>Austria</td>\n",
       "      <td>0.91</td>\n",
       "    </tr>\n",
       "  </tbody>\n",
       "</table>\n",
       "</div>"
      ],
      "text/plain": [
       "                Country  2017 HDI Score\n",
       "0           Afghanistan            0.50\n",
       "1               Albania            0.79\n",
       "2               Algeria            0.75\n",
       "3               Andorra            0.86\n",
       "4                Angola            0.58\n",
       "5   Antigua and Barbuda            0.78\n",
       "6             Argentina            0.82\n",
       "7               Armenia            0.76\n",
       "8             Australia            0.94\n",
       "9               Austria            0.91"
      ]
     },
     "execution_count": 7,
     "metadata": {},
     "output_type": "execute_result"
    }
   ],
   "source": [
    "# 3. Human Development Index table formation \n",
    "\n",
    "HDI = pd.read_excel('HDI.xlsx', sheet_name='HDI Data')\n",
    "HDI['Country'].replace(' ', '', inplace=True)\n",
    "HDI.head(10)"
   ]
  },
  {
   "cell_type": "code",
   "execution_count": 8,
   "metadata": {},
   "outputs": [
    {
     "name": "stdout",
     "output_type": "stream",
     "text": [
      "<class 'pandas.core.frame.DataFrame'>\n",
      "RangeIndex: 189 entries, 0 to 188\n",
      "Data columns (total 2 columns):\n",
      "Country           189 non-null object\n",
      "2017 HDI Score    189 non-null float64\n",
      "dtypes: float64(1), object(1)\n",
      "memory usage: 3.1+ KB\n"
     ]
    }
   ],
   "source": [
    "HDI.info()"
   ]
  },
  {
   "cell_type": "code",
   "execution_count": 9,
   "metadata": {},
   "outputs": [],
   "source": [
    "# FIRST simple regression data: Rule of Index vs. GDP per capita\n",
    "\n",
    "ROL_GDP = GDPPerCapita.merge(RuleOfLaw, how = \"inner\", on = \"Country\", suffixes = [\"2017 GDP per Capita\", \"2017 Rule of Law Index\"])"
   ]
  },
  {
   "cell_type": "code",
   "execution_count": 10,
   "metadata": {},
   "outputs": [],
   "source": [
    "ROL_GDP['2017 GDP per Capita'] = ROL_GDP['2017 GDP per Capita'].astype('float')\n",
    "ROL_GDP['2017 GDP per Capita'] = np.sqrt(ROL_GDP['2017 GDP per Capita'])"
   ]
  },
  {
   "cell_type": "code",
   "execution_count": 13,
   "metadata": {},
   "outputs": [
    {
     "data": {
      "text/html": [
       "<div>\n",
       "<style scoped>\n",
       "    .dataframe tbody tr th:only-of-type {\n",
       "        vertical-align: middle;\n",
       "    }\n",
       "\n",
       "    .dataframe tbody tr th {\n",
       "        vertical-align: top;\n",
       "    }\n",
       "\n",
       "    .dataframe thead th {\n",
       "        text-align: right;\n",
       "    }\n",
       "</style>\n",
       "<table border=\"1\" class=\"dataframe\">\n",
       "  <thead>\n",
       "    <tr style=\"text-align: right;\">\n",
       "      <th></th>\n",
       "      <th>Country</th>\n",
       "      <th>2017 GDP per Capita</th>\n",
       "      <th>2017 Rule of Law Index</th>\n",
       "    </tr>\n",
       "  </thead>\n",
       "  <tbody>\n",
       "    <tr>\n",
       "      <th>0</th>\n",
       "      <td>Afghanistan</td>\n",
       "      <td>23.59</td>\n",
       "      <td>0.34</td>\n",
       "    </tr>\n",
       "    <tr>\n",
       "      <th>1</th>\n",
       "      <td>Albania</td>\n",
       "      <td>67.33</td>\n",
       "      <td>0.51</td>\n",
       "    </tr>\n",
       "    <tr>\n",
       "      <th>2</th>\n",
       "      <td>United Arab Emirates</td>\n",
       "      <td>200.81</td>\n",
       "      <td>0.65</td>\n",
       "    </tr>\n",
       "    <tr>\n",
       "      <th>3</th>\n",
       "      <td>Argentina</td>\n",
       "      <td>120.80</td>\n",
       "      <td>0.58</td>\n",
       "    </tr>\n",
       "    <tr>\n",
       "      <th>4</th>\n",
       "      <td>Antigua and Barbuda</td>\n",
       "      <td>125.80</td>\n",
       "      <td>0.63</td>\n",
       "    </tr>\n",
       "    <tr>\n",
       "      <th>5</th>\n",
       "      <td>Australia</td>\n",
       "      <td>232.58</td>\n",
       "      <td>0.81</td>\n",
       "    </tr>\n",
       "    <tr>\n",
       "      <th>6</th>\n",
       "      <td>Austria</td>\n",
       "      <td>217.67</td>\n",
       "      <td>0.81</td>\n",
       "    </tr>\n",
       "    <tr>\n",
       "      <th>7</th>\n",
       "      <td>Belgium</td>\n",
       "      <td>208.58</td>\n",
       "      <td>0.77</td>\n",
       "    </tr>\n",
       "    <tr>\n",
       "      <th>8</th>\n",
       "      <td>Burkina Faso</td>\n",
       "      <td>25.34</td>\n",
       "      <td>0.51</td>\n",
       "    </tr>\n",
       "    <tr>\n",
       "      <th>9</th>\n",
       "      <td>Bangladesh</td>\n",
       "      <td>39.55</td>\n",
       "      <td>0.41</td>\n",
       "    </tr>\n",
       "  </tbody>\n",
       "</table>\n",
       "</div>"
      ],
      "text/plain": [
       "                Country  2017 GDP per Capita 2017 Rule of Law Index\n",
       "0           Afghanistan                23.59                   0.34\n",
       "1               Albania                67.33                   0.51\n",
       "2  United Arab Emirates               200.81                   0.65\n",
       "3             Argentina               120.80                   0.58\n",
       "4   Antigua and Barbuda               125.80                   0.63\n",
       "5             Australia               232.58                   0.81\n",
       "6               Austria               217.67                   0.81\n",
       "7               Belgium               208.58                   0.77\n",
       "8          Burkina Faso                25.34                   0.51\n",
       "9            Bangladesh                39.55                   0.41"
      ]
     },
     "execution_count": 13,
     "metadata": {},
     "output_type": "execute_result"
    }
   ],
   "source": [
    "ROL_GDP.head(10)"
   ]
  },
  {
   "cell_type": "code",
   "execution_count": 14,
   "metadata": {},
   "outputs": [
    {
     "name": "stdout",
     "output_type": "stream",
     "text": [
      "<class 'pandas.core.frame.DataFrame'>\n",
      "Int64Index: 105 entries, 0 to 104\n",
      "Data columns (total 3 columns):\n",
      "Country                   105 non-null object\n",
      "2017 GDP per Capita       105 non-null float64\n",
      "2017 Rule of Law Index    105 non-null object\n",
      "dtypes: float64(1), object(2)\n",
      "memory usage: 3.3+ KB\n"
     ]
    }
   ],
   "source": [
    "ROL_GDP.info()"
   ]
  },
  {
   "cell_type": "code",
   "execution_count": 15,
   "metadata": {},
   "outputs": [
    {
     "data": {
      "text/html": [
       "<div>\n",
       "<style scoped>\n",
       "    .dataframe tbody tr th:only-of-type {\n",
       "        vertical-align: middle;\n",
       "    }\n",
       "\n",
       "    .dataframe tbody tr th {\n",
       "        vertical-align: top;\n",
       "    }\n",
       "\n",
       "    .dataframe thead th {\n",
       "        text-align: right;\n",
       "    }\n",
       "</style>\n",
       "<table border=\"1\" class=\"dataframe\">\n",
       "  <thead>\n",
       "    <tr style=\"text-align: right;\">\n",
       "      <th></th>\n",
       "      <th>2017 GDP per Capita</th>\n",
       "    </tr>\n",
       "  </thead>\n",
       "  <tbody>\n",
       "    <tr>\n",
       "      <th>count</th>\n",
       "      <td>105.00</td>\n",
       "    </tr>\n",
       "    <tr>\n",
       "      <th>mean</th>\n",
       "      <td>101.26</td>\n",
       "    </tr>\n",
       "    <tr>\n",
       "      <th>std</th>\n",
       "      <td>65.13</td>\n",
       "    </tr>\n",
       "    <tr>\n",
       "      <th>min</th>\n",
       "      <td>18.89</td>\n",
       "    </tr>\n",
       "    <tr>\n",
       "      <th>25%</th>\n",
       "      <td>49.32</td>\n",
       "    </tr>\n",
       "    <tr>\n",
       "      <th>50%</th>\n",
       "      <td>81.86</td>\n",
       "    </tr>\n",
       "    <tr>\n",
       "      <th>75%</th>\n",
       "      <td>128.21</td>\n",
       "    </tr>\n",
       "    <tr>\n",
       "      <th>max</th>\n",
       "      <td>275.14</td>\n",
       "    </tr>\n",
       "  </tbody>\n",
       "</table>\n",
       "</div>"
      ],
      "text/plain": [
       "       2017 GDP per Capita\n",
       "count               105.00\n",
       "mean                101.26\n",
       "std                  65.13\n",
       "min                  18.89\n",
       "25%                  49.32\n",
       "50%                  81.86\n",
       "75%                 128.21\n",
       "max                 275.14"
      ]
     },
     "execution_count": 15,
     "metadata": {},
     "output_type": "execute_result"
    }
   ],
   "source": [
    "ROL_GDP.describe()"
   ]
  },
  {
   "cell_type": "code",
   "execution_count": 16,
   "metadata": {},
   "outputs": [
    {
     "data": {
      "text/html": [
       "<div>\n",
       "<style scoped>\n",
       "    .dataframe tbody tr th:only-of-type {\n",
       "        vertical-align: middle;\n",
       "    }\n",
       "\n",
       "    .dataframe tbody tr th {\n",
       "        vertical-align: top;\n",
       "    }\n",
       "\n",
       "    .dataframe thead th {\n",
       "        text-align: right;\n",
       "    }\n",
       "</style>\n",
       "<table border=\"1\" class=\"dataframe\">\n",
       "  <thead>\n",
       "    <tr style=\"text-align: right;\">\n",
       "      <th></th>\n",
       "      <th>Country</th>\n",
       "      <th>2017 HDI</th>\n",
       "      <th>2017 Rule of Law Index</th>\n",
       "    </tr>\n",
       "  </thead>\n",
       "  <tbody>\n",
       "    <tr>\n",
       "      <th>0</th>\n",
       "      <td>Afghanistan</td>\n",
       "      <td>0.50</td>\n",
       "      <td>0.34</td>\n",
       "    </tr>\n",
       "    <tr>\n",
       "      <th>1</th>\n",
       "      <td>Albania</td>\n",
       "      <td>0.79</td>\n",
       "      <td>0.51</td>\n",
       "    </tr>\n",
       "    <tr>\n",
       "      <th>5</th>\n",
       "      <td>Antigua and Barbuda</td>\n",
       "      <td>0.78</td>\n",
       "      <td>0.63</td>\n",
       "    </tr>\n",
       "    <tr>\n",
       "      <th>6</th>\n",
       "      <td>Argentina</td>\n",
       "      <td>0.82</td>\n",
       "      <td>0.58</td>\n",
       "    </tr>\n",
       "    <tr>\n",
       "      <th>8</th>\n",
       "      <td>Australia</td>\n",
       "      <td>0.94</td>\n",
       "      <td>0.81</td>\n",
       "    </tr>\n",
       "    <tr>\n",
       "      <th>9</th>\n",
       "      <td>Austria</td>\n",
       "      <td>0.91</td>\n",
       "      <td>0.81</td>\n",
       "    </tr>\n",
       "    <tr>\n",
       "      <th>11</th>\n",
       "      <td>Bahamas</td>\n",
       "      <td>0.81</td>\n",
       "      <td>0.60</td>\n",
       "    </tr>\n",
       "    <tr>\n",
       "      <th>13</th>\n",
       "      <td>Bangladesh</td>\n",
       "      <td>0.61</td>\n",
       "      <td>0.41</td>\n",
       "    </tr>\n",
       "    <tr>\n",
       "      <th>14</th>\n",
       "      <td>Barbados</td>\n",
       "      <td>0.80</td>\n",
       "      <td>0.65</td>\n",
       "    </tr>\n",
       "    <tr>\n",
       "      <th>15</th>\n",
       "      <td>Belarus</td>\n",
       "      <td>0.81</td>\n",
       "      <td>0.51</td>\n",
       "    </tr>\n",
       "  </tbody>\n",
       "</table>\n",
       "</div>"
      ],
      "text/plain": [
       "                Country  2017 HDI  2017 Rule of Law Index\n",
       "0           Afghanistan      0.50                    0.34\n",
       "1               Albania      0.79                    0.51\n",
       "5   Antigua and Barbuda      0.78                    0.63\n",
       "6             Argentina      0.82                    0.58\n",
       "8             Australia      0.94                    0.81\n",
       "9               Austria      0.91                    0.81\n",
       "11              Bahamas      0.81                    0.60\n",
       "13           Bangladesh      0.61                    0.41\n",
       "14             Barbados      0.80                    0.65\n",
       "15              Belarus      0.81                    0.51"
      ]
     },
     "execution_count": 16,
     "metadata": {},
     "output_type": "execute_result"
    }
   ],
   "source": [
    "# SECOND simple regression data: Rule of Index vs. Human Development Index\n",
    "\n",
    "ROL_HDI = pd.read_excel('ROL_HDI.xlsx', sheet_name='HDI Data')\n",
    "ROL_HDI.dropna(how = \"any\", inplace = True)\n",
    "ROL_HDI.head(10)"
   ]
  },
  {
   "cell_type": "code",
   "execution_count": 17,
   "metadata": {},
   "outputs": [
    {
     "name": "stdout",
     "output_type": "stream",
     "text": [
      "<class 'pandas.core.frame.DataFrame'>\n",
      "Int64Index: 109 entries, 0 to 188\n",
      "Data columns (total 3 columns):\n",
      "Country                   109 non-null object\n",
      "2017 HDI                  109 non-null float64\n",
      "2017 Rule of Law Index    109 non-null float64\n",
      "dtypes: float64(2), object(1)\n",
      "memory usage: 3.4+ KB\n"
     ]
    }
   ],
   "source": [
    "ROL_HDI.info()"
   ]
  },
  {
   "cell_type": "code",
   "execution_count": 18,
   "metadata": {},
   "outputs": [],
   "source": [
    "ROL_HDI['2017 Rule of Law Index'] = ROL_HDI['2017 Rule of Law Index'].astype('float')\n",
    "ROL_HDI['2017 Rule of Law Index'] = ROL_HDI['2017 Rule of Law Index']**2"
   ]
  },
  {
   "cell_type": "code",
   "execution_count": 19,
   "metadata": {},
   "outputs": [
    {
     "data": {
      "text/html": [
       "<div>\n",
       "<style scoped>\n",
       "    .dataframe tbody tr th:only-of-type {\n",
       "        vertical-align: middle;\n",
       "    }\n",
       "\n",
       "    .dataframe tbody tr th {\n",
       "        vertical-align: top;\n",
       "    }\n",
       "\n",
       "    .dataframe thead th {\n",
       "        text-align: right;\n",
       "    }\n",
       "</style>\n",
       "<table border=\"1\" class=\"dataframe\">\n",
       "  <thead>\n",
       "    <tr style=\"text-align: right;\">\n",
       "      <th></th>\n",
       "      <th>Country</th>\n",
       "      <th>2017 HDI</th>\n",
       "      <th>2017 Rule of Law Index</th>\n",
       "    </tr>\n",
       "  </thead>\n",
       "  <tbody>\n",
       "    <tr>\n",
       "      <th>0</th>\n",
       "      <td>Afghanistan</td>\n",
       "      <td>0.50</td>\n",
       "      <td>0.12</td>\n",
       "    </tr>\n",
       "    <tr>\n",
       "      <th>1</th>\n",
       "      <td>Albania</td>\n",
       "      <td>0.79</td>\n",
       "      <td>0.26</td>\n",
       "    </tr>\n",
       "    <tr>\n",
       "      <th>5</th>\n",
       "      <td>Antigua and Barbuda</td>\n",
       "      <td>0.78</td>\n",
       "      <td>0.39</td>\n",
       "    </tr>\n",
       "    <tr>\n",
       "      <th>6</th>\n",
       "      <td>Argentina</td>\n",
       "      <td>0.82</td>\n",
       "      <td>0.34</td>\n",
       "    </tr>\n",
       "    <tr>\n",
       "      <th>8</th>\n",
       "      <td>Australia</td>\n",
       "      <td>0.94</td>\n",
       "      <td>0.65</td>\n",
       "    </tr>\n",
       "    <tr>\n",
       "      <th>9</th>\n",
       "      <td>Austria</td>\n",
       "      <td>0.91</td>\n",
       "      <td>0.66</td>\n",
       "    </tr>\n",
       "    <tr>\n",
       "      <th>11</th>\n",
       "      <td>Bahamas</td>\n",
       "      <td>0.81</td>\n",
       "      <td>0.36</td>\n",
       "    </tr>\n",
       "    <tr>\n",
       "      <th>13</th>\n",
       "      <td>Bangladesh</td>\n",
       "      <td>0.61</td>\n",
       "      <td>0.17</td>\n",
       "    </tr>\n",
       "    <tr>\n",
       "      <th>14</th>\n",
       "      <td>Barbados</td>\n",
       "      <td>0.80</td>\n",
       "      <td>0.42</td>\n",
       "    </tr>\n",
       "    <tr>\n",
       "      <th>15</th>\n",
       "      <td>Belarus</td>\n",
       "      <td>0.81</td>\n",
       "      <td>0.26</td>\n",
       "    </tr>\n",
       "  </tbody>\n",
       "</table>\n",
       "</div>"
      ],
      "text/plain": [
       "                Country  2017 HDI  2017 Rule of Law Index\n",
       "0           Afghanistan      0.50                    0.12\n",
       "1               Albania      0.79                    0.26\n",
       "5   Antigua and Barbuda      0.78                    0.39\n",
       "6             Argentina      0.82                    0.34\n",
       "8             Australia      0.94                    0.65\n",
       "9               Austria      0.91                    0.66\n",
       "11              Bahamas      0.81                    0.36\n",
       "13           Bangladesh      0.61                    0.17\n",
       "14             Barbados      0.80                    0.42\n",
       "15              Belarus      0.81                    0.26"
      ]
     },
     "execution_count": 19,
     "metadata": {},
     "output_type": "execute_result"
    }
   ],
   "source": [
    "ROL_HDI.head(10)"
   ]
  },
  {
   "cell_type": "markdown",
   "metadata": {},
   "source": [
    "### EDA"
   ]
  },
  {
   "cell_type": "markdown",
   "metadata": {},
   "source": [
    "__GDP-ROL__"
   ]
  },
  {
   "cell_type": "code",
   "execution_count": 23,
   "metadata": {},
   "outputs": [
    {
     "data": {
      "image/png": "[encoded data removed]",
      "text/plain": [
       "<Figure size 360x360 with 6 Axes>"
      ]
     },
     "metadata": {},
     "output_type": "display_data"
    }
   ],
   "source": [
    "sns.pairplot(ROL_GDP)\n",
    "plt.show()"
   ]
  },
  {
   "cell_type": "code",
   "execution_count": 24,
   "metadata": {},
   "outputs": [
    {
     "data": {
      "image/png": "[encoded data removed]",
      "text/plain": [
       "<Figure size 432x288 with 1 Axes>"
      ]
     },
     "metadata": {},
     "output_type": "display_data"
    }
   ],
   "source": [
    "sns.distplot(ROL_GDP['2017 GDP per Capita'])\n",
    "plt.show()"
   ]
  },
  {
   "cell_type": "markdown",
   "metadata": {},
   "source": [
    "__HDI-ROL__"
   ]
  },
  {
   "cell_type": "code",
   "execution_count": 25,
   "metadata": {},
   "outputs": [
    {
     "data": {
      "image/png": "[encoded data removed]",
      "text/plain": [
       "<Figure size 360x360 with 6 Axes>"
      ]
     },
     "metadata": {},
     "output_type": "display_data"
    }
   ],
   "source": [
    "sns.pairplot(ROL_HDI)\n",
    "plt.show()"
   ]
  },
  {
   "cell_type": "code",
   "execution_count": 26,
   "metadata": {},
   "outputs": [
    {
     "data": {
      "image/png": "[encoded data removed]",
      "text/plain": [
       "<Figure size 432x288 with 1 Axes>"
      ]
     },
     "metadata": {},
     "output_type": "display_data"
    }
   ],
   "source": [
    "sns.distplot(ROL_HDI['2017 HDI'])\n",
    "plt.show()"
   ]
  },
  {
   "cell_type": "markdown",
   "metadata": {},
   "source": [
    "### Training a Linear Regression Model"
   ]
  },
  {
   "cell_type": "code",
   "execution_count": 27,
   "metadata": {},
   "outputs": [],
   "source": [
    "X_GDP = ROL_GDP[['2017 Rule of Law Index']]\n",
    "y_GDP = ROL_GDP[['2017 GDP per Capita']]"
   ]
  },
  {
   "cell_type": "code",
   "execution_count": 28,
   "metadata": {},
   "outputs": [],
   "source": [
    "X_HDI = ROL_HDI[['2017 Rule of Law Index']]\n",
    "y_HDI = ROL_HDI[['2017 HDI']]"
   ]
  },
  {
   "cell_type": "markdown",
   "metadata": {},
   "source": [
    "## 1. sklearn modeling "
   ]
  },
  {
   "cell_type": "markdown",
   "metadata": {},
   "source": [
    "### Train Test Split"
   ]
  },
  {
   "cell_type": "code",
   "execution_count": 29,
   "metadata": {},
   "outputs": [],
   "source": [
    "from sklearn.model_selection import train_test_split"
   ]
  },
  {
   "cell_type": "code",
   "execution_count": 30,
   "metadata": {},
   "outputs": [],
   "source": [
    "X_GDP_train, X_GDP_test, y_GDP_train, y_GDP_test = train_test_split(X_GDP, y_GDP, test_size=0.30, random_state=101)"
   ]
  },
  {
   "cell_type": "code",
   "execution_count": 31,
   "metadata": {},
   "outputs": [],
   "source": [
    "X_HDI_train, X_HDI_test, y_HDI_train, y_HDI_test = train_test_split(X_HDI, y_HDI, test_size=0.30, random_state=101)"
   ]
  },
  {
   "cell_type": "markdown",
   "metadata": {},
   "source": [
    "### Creating and Training the Model"
   ]
  },
  {
   "cell_type": "code",
   "execution_count": 32,
   "metadata": {},
   "outputs": [],
   "source": [
    "from sklearn.linear_model import LinearRegression"
   ]
  },
  {
   "cell_type": "code",
   "execution_count": 33,
   "metadata": {},
   "outputs": [],
   "source": [
    "lm_GDP = LinearRegression()\n",
    "lm_HDI = LinearRegression()"
   ]
  },
  {
   "cell_type": "code",
   "execution_count": 34,
   "metadata": {},
   "outputs": [
    {
     "data": {
      "text/plain": [
       "LinearRegression(copy_X=True, fit_intercept=True, n_jobs=None, normalize=False)"
      ]
     },
     "execution_count": 34,
     "metadata": {},
     "output_type": "execute_result"
    }
   ],
   "source": [
    "lm_GDP.fit(X_GDP_train, y_GDP_train)"
   ]
  },
  {
   "cell_type": "code",
   "execution_count": 35,
   "metadata": {},
   "outputs": [
    {
     "data": {
      "text/plain": [
       "LinearRegression(copy_X=True, fit_intercept=True, n_jobs=None, normalize=False)"
      ]
     },
     "execution_count": 35,
     "metadata": {},
     "output_type": "execute_result"
    }
   ],
   "source": [
    "lm_HDI.fit(X_HDI_train, y_HDI_train)"
   ]
  },
  {
   "cell_type": "code",
   "execution_count": 36,
   "metadata": {},
   "outputs": [
    {
     "name": "stdout",
     "output_type": "stream",
     "text": [
      "intercept:  [-137.25139924]\n",
      "coefficients:  [[420.20974445]]\n"
     ]
    }
   ],
   "source": [
    "print('intercept: ', lm_GDP.intercept_)\n",
    "print('coefficients: ', lm_GDP.coef_)"
   ]
  },
  {
   "cell_type": "code",
   "execution_count": 37,
   "metadata": {},
   "outputs": [
    {
     "name": "stdout",
     "output_type": "stream",
     "text": [
      "intercept:  [0.54360047]\n",
      "coefficients:  [[0.57369486]]\n"
     ]
    }
   ],
   "source": [
    "print('intercept: ', lm_HDI.intercept_)\n",
    "print('coefficients: ', lm_HDI.coef_)"
   ]
  },
  {
   "cell_type": "code",
   "execution_count": 38,
   "metadata": {},
   "outputs": [
    {
     "data": {
      "text/html": [
       "<div>\n",
       "<style scoped>\n",
       "    .dataframe tbody tr th:only-of-type {\n",
       "        vertical-align: middle;\n",
       "    }\n",
       "\n",
       "    .dataframe tbody tr th {\n",
       "        vertical-align: top;\n",
       "    }\n",
       "\n",
       "    .dataframe thead th {\n",
       "        text-align: right;\n",
       "    }\n",
       "</style>\n",
       "<table border=\"1\" class=\"dataframe\">\n",
       "  <thead>\n",
       "    <tr style=\"text-align: right;\">\n",
       "      <th></th>\n",
       "      <th>Coefficient</th>\n",
       "    </tr>\n",
       "  </thead>\n",
       "  <tbody>\n",
       "    <tr>\n",
       "      <th>2017 Rule of Law Index</th>\n",
       "      <td>420.21</td>\n",
       "    </tr>\n",
       "  </tbody>\n",
       "</table>\n",
       "</div>"
      ],
      "text/plain": [
       "                        Coefficient\n",
       "2017 Rule of Law Index       420.21"
      ]
     },
     "execution_count": 38,
     "metadata": {},
     "output_type": "execute_result"
    }
   ],
   "source": [
    "coeff_GDP = pd.DataFrame(lm_GDP.coef_,X_GDP.columns,columns=['Coefficient'])\n",
    "coeff_GDP"
   ]
  },
  {
   "cell_type": "code",
   "execution_count": 39,
   "metadata": {},
   "outputs": [
    {
     "data": {
      "text/html": [
       "<div>\n",
       "<style scoped>\n",
       "    .dataframe tbody tr th:only-of-type {\n",
       "        vertical-align: middle;\n",
       "    }\n",
       "\n",
       "    .dataframe tbody tr th {\n",
       "        vertical-align: top;\n",
       "    }\n",
       "\n",
       "    .dataframe thead th {\n",
       "        text-align: right;\n",
       "    }\n",
       "</style>\n",
       "<table border=\"1\" class=\"dataframe\">\n",
       "  <thead>\n",
       "    <tr style=\"text-align: right;\">\n",
       "      <th></th>\n",
       "      <th>Coefficient</th>\n",
       "    </tr>\n",
       "  </thead>\n",
       "  <tbody>\n",
       "    <tr>\n",
       "      <th>2017 Rule of Law Index</th>\n",
       "      <td>0.57</td>\n",
       "    </tr>\n",
       "  </tbody>\n",
       "</table>\n",
       "</div>"
      ],
      "text/plain": [
       "                        Coefficient\n",
       "2017 Rule of Law Index         0.57"
      ]
     },
     "execution_count": 39,
     "metadata": {},
     "output_type": "execute_result"
    }
   ],
   "source": [
    "coeff_HDI = pd.DataFrame(lm_HDI.coef_,X_HDI.columns,columns=['Coefficient'])\n",
    "coeff_HDI"
   ]
  },
  {
   "cell_type": "markdown",
   "metadata": {},
   "source": [
    "### Predictions from our Model"
   ]
  },
  {
   "cell_type": "code",
   "execution_count": 40,
   "metadata": {},
   "outputs": [],
   "source": [
    "predictions_GDP = lm_GDP.predict(X_GDP_test)\n",
    "predictions_HDI = lm_HDI.predict(X_HDI_test)"
   ]
  },
  {
   "cell_type": "code",
   "execution_count": 41,
   "metadata": {},
   "outputs": [
    {
     "data": {
      "text/plain": [
       "array([[118.92354874],\n",
       "       [ 76.12935992],\n",
       "       [ 73.18258002],\n",
       "       [ 50.6409987 ],\n",
       "       [ 59.86176881],\n",
       "       [ 79.94623043],\n",
       "       [ 47.2742159 ],\n",
       "       [119.50783601],\n",
       "       [ 53.08980484],\n",
       "       [197.40308874],\n",
       "       [204.72412067],\n",
       "       [ 74.76465561],\n",
       "       [ 93.72443232],\n",
       "       [135.88686503],\n",
       "       [113.47759655],\n",
       "       [157.97770331],\n",
       "       [225.54418135],\n",
       "       [ 23.35556816],\n",
       "       [172.67414454],\n",
       "       [185.51564499],\n",
       "       [ 60.47523524],\n",
       "       [107.27006821],\n",
       "       [104.91194435],\n",
       "       [ 55.77729294],\n",
       "       [ 72.61974367],\n",
       "       [ 80.3139174 ],\n",
       "       [109.85978303],\n",
       "       [ 96.84550236],\n",
       "       [134.37421914],\n",
       "       [ 61.96680132],\n",
       "       [ 46.27714912],\n",
       "       [144.57821624]])"
      ]
     },
     "execution_count": 41,
     "metadata": {},
     "output_type": "execute_result"
    }
   ],
   "source": [
    "predictions_GDP"
   ]
  },
  {
   "cell_type": "code",
   "execution_count": 42,
   "metadata": {},
   "outputs": [
    {
     "data": {
      "text/plain": [
       "array([[0.90701402],\n",
       "       [0.75779129],\n",
       "       [0.85004876],\n",
       "       [0.61859795],\n",
       "       [0.6233162 ],\n",
       "       [0.70576833],\n",
       "       [0.69153148],\n",
       "       [0.67330065],\n",
       "       [0.71451803],\n",
       "       [0.69739045],\n",
       "       [0.67051199],\n",
       "       [0.6951084 ],\n",
       "       [0.70409785],\n",
       "       [0.63631861],\n",
       "       [0.69326725],\n",
       "       [0.66184849],\n",
       "       [0.63660205],\n",
       "       [0.79770938],\n",
       "       [0.65182391],\n",
       "       [0.75154496],\n",
       "       [0.69148645],\n",
       "       [0.64524976],\n",
       "       [0.70378485],\n",
       "       [0.73850022],\n",
       "       [0.74784848],\n",
       "       [0.71693368],\n",
       "       [0.7010136 ],\n",
       "       [0.89786151],\n",
       "       [0.73786016],\n",
       "       [0.66983056],\n",
       "       [0.88207585],\n",
       "       [0.6542277 ],\n",
       "       [0.67229113]])"
      ]
     },
     "execution_count": 42,
     "metadata": {},
     "output_type": "execute_result"
    }
   ],
   "source": [
    "predictions_HDI"
   ]
  },
  {
   "cell_type": "code",
   "execution_count": 44,
   "metadata": {},
   "outputs": [
    {
     "data": {
      "image/png": "[encoded data removed]",
      "text/plain": [
       "<Figure size 432x288 with 1 Axes>"
      ]
     },
     "metadata": {},
     "output_type": "display_data"
    }
   ],
   "source": [
    "plt.scatter(y_GDP_test,predictions_GDP)\n",
    "plt.xlabel(\"Actual GDP\")\n",
    "plt.ylabel(\"Predicted GDP\")\n",
    "plt.show()"
   ]
  },
  {
   "cell_type": "code",
   "execution_count": 45,
   "metadata": {},
   "outputs": [
    {
     "data": {
      "image/png": "[encoded data removed]",
      "text/plain": [
       "<Figure size 432x288 with 1 Axes>"
      ]
     },
     "metadata": {},
     "output_type": "display_data"
    }
   ],
   "source": [
    "plt.scatter(y_HDI_test,predictions_HDI)\n",
    "plt.xlabel(\"Actual HDI\")\n",
    "plt.ylabel(\"Predicted HDI\")\n",
    "plt.show()"
   ]
  },
  {
   "cell_type": "code",
   "execution_count": 46,
   "metadata": {},
   "outputs": [
    {
     "data": {
      "image/png": "[encoded data removed]",
      "text/plain": [
       "<Figure size 432x288 with 1 Axes>"
      ]
     },
     "metadata": {},
     "output_type": "display_data"
    }
   ],
   "source": [
    "sns.distplot((y_GDP_test-predictions_GDP),bins=20);"
   ]
  },
  {
   "cell_type": "code",
   "execution_count": 48,
   "metadata": {},
   "outputs": [
    {
     "data": {
      "image/png": "[encoded data removed]",
      "text/plain": [
       "<Figure size 432x288 with 1 Axes>"
      ]
     },
     "metadata": {},
     "output_type": "display_data"
    }
   ],
   "source": [
    "sns.distplot((y_HDI_test-predictions_HDI),bins=20);"
   ]
  },
  {
   "cell_type": "markdown",
   "metadata": {},
   "source": [
    "### Regression Evaluation Metrics"
   ]
  },
  {
   "cell_type": "code",
   "execution_count": 49,
   "metadata": {},
   "outputs": [],
   "source": [
    "from sklearn import metrics"
   ]
  },
  {
   "cell_type": "code",
   "execution_count": 50,
   "metadata": {},
   "outputs": [
    {
     "name": "stdout",
     "output_type": "stream",
     "text": [
      "MAE: 24.45004760573715\n",
      "MSE: 890.0200108323656\n",
      "RMSE: 29.833203160779863\n",
      "R2: 0.7631108681608503\n"
     ]
    }
   ],
   "source": [
    "print('MAE:', metrics.mean_absolute_error(y_GDP_test, predictions_GDP))\n",
    "print('MSE:', metrics.mean_squared_error(y_GDP_test, predictions_GDP))\n",
    "print('RMSE:', np.sqrt(metrics.mean_squared_error(y_GDP_test, predictions_GDP)))\n",
    "print('R2:', metrics.explained_variance_score(y_GDP_test, predictions_GDP))"
   ]
  },
  {
   "cell_type": "code",
   "execution_count": 51,
   "metadata": {},
   "outputs": [
    {
     "name": "stdout",
     "output_type": "stream",
     "text": [
      "MAE: 0.07592466693253896\n",
      "MSE: 0.009195912619977575\n",
      "RMSE: 0.09589532115790413\n",
      "R2: 0.48509106662400137\n"
     ]
    }
   ],
   "source": [
    "print('MAE:', metrics.mean_absolute_error(y_HDI_test, predictions_HDI))\n",
    "print('MSE:', metrics.mean_squared_error(y_HDI_test, predictions_HDI))\n",
    "print('RMSE:', np.sqrt(metrics.mean_squared_error(y_HDI_test, predictions_HDI)))\n",
    "print('R2:', metrics.explained_variance_score(y_HDI_test, predictions_HDI))"
   ]
  },
  {
   "cell_type": "markdown",
   "metadata": {},
   "source": [
    "## 2. statsmodels modeling"
   ]
  },
  {
   "cell_type": "markdown",
   "metadata": {},
   "source": [
    "### Modeling and Results"
   ]
  },
  {
   "cell_type": "markdown",
   "metadata": {},
   "source": [
    "*__ROL_GDP__*"
   ]
  },
  {
   "cell_type": "code",
   "execution_count": 55,
   "metadata": {},
   "outputs": [],
   "source": [
    "#X_GDP = sm.add_constant(X_GDP)"
   ]
  },
  {
   "cell_type": "code",
   "execution_count": 52,
   "metadata": {},
   "outputs": [],
   "source": [
    "model_GDP = sm.OLS(y_GDP, X_GDP.astype(float))  \n",
    "results_GDP = model_GDP.fit()"
   ]
  },
  {
   "cell_type": "code",
   "execution_count": 53,
   "metadata": {},
   "outputs": [
    {
     "name": "stdout",
     "output_type": "stream",
     "text": [
      "                                 OLS Regression Results                                 \n",
      "========================================================================================\n",
      "Dep. Variable:     2017 GDP per Capita   R-squared (uncentered):                   0.870\n",
      "Model:                             OLS   Adj. R-squared (uncentered):              0.869\n",
      "Method:                  Least Squares   F-statistic:                              696.6\n",
      "Date:                 Thu, 08 Jul 2021   Prob (F-statistic):                    6.78e-48\n",
      "Time:                         19:59:47   Log-Likelihood:                         -544.73\n",
      "No. Observations:                  105   AIC:                                      1091.\n",
      "Df Residuals:                      104   BIC:                                      1094.\n",
      "Df Model:                            1                                                  \n",
      "Covariance Type:             nonrobust                                                  \n",
      "==========================================================================================\n",
      "                             coef    std err          t      P>|t|      [0.025      0.975]\n",
      "------------------------------------------------------------------------------------------\n",
      "2017 Rule of Law Index   189.7908      7.191     26.392      0.000     175.531     204.051\n",
      "==============================================================================\n",
      "Omnibus:                       10.209   Durbin-Watson:                   1.964\n",
      "Prob(Omnibus):                  0.006   Jarque-Bera (JB):               11.193\n",
      "Skew:                           0.798   Prob(JB):                      0.00371\n",
      "Kurtosis:                       2.891   Cond. No.                         1.00\n",
      "==============================================================================\n",
      "\n",
      "Warnings:\n",
      "[1] Standard Errors assume that the covariance matrix of the errors is correctly specified.\n"
     ]
    }
   ],
   "source": [
    "print(results_GDP.summary())"
   ]
  },
  {
   "cell_type": "markdown",
   "metadata": {},
   "source": [
    "*__ROL_HDI__*"
   ]
  },
  {
   "cell_type": "code",
   "execution_count": 54,
   "metadata": {},
   "outputs": [],
   "source": [
    "#X_HDI = sm.add_constant(X_HDI)"
   ]
  },
  {
   "cell_type": "code",
   "execution_count": 56,
   "metadata": {},
   "outputs": [],
   "source": [
    "model_HDI = sm.OLS(y_HDI, X_HDI.astype(float))  \n",
    "results_HDI = model_HDI.fit()"
   ]
  },
  {
   "cell_type": "code",
   "execution_count": 57,
   "metadata": {},
   "outputs": [
    {
     "name": "stdout",
     "output_type": "stream",
     "text": [
      "                                 OLS Regression Results                                \n",
      "=======================================================================================\n",
      "Dep. Variable:               2017 HDI   R-squared (uncentered):                   0.880\n",
      "Model:                            OLS   Adj. R-squared (uncentered):              0.879\n",
      "Method:                 Least Squares   F-statistic:                              793.7\n",
      "Date:                Thu, 08 Jul 2021   Prob (F-statistic):                    1.39e-51\n",
      "Time:                        20:00:07   Log-Likelihood:                         -8.2338\n",
      "No. Observations:                 109   AIC:                                      18.47\n",
      "Df Residuals:                     108   BIC:                                      21.16\n",
      "Df Model:                           1                                                  \n",
      "Covariance Type:            nonrobust                                                  \n",
      "==========================================================================================\n",
      "                             coef    std err          t      P>|t|      [0.025      0.975]\n",
      "------------------------------------------------------------------------------------------\n",
      "2017 Rule of Law Index     1.8567      0.066     28.173      0.000       1.726       1.987\n",
      "==============================================================================\n",
      "Omnibus:                       13.841   Durbin-Watson:                   1.420\n",
      "Prob(Omnibus):                  0.001   Jarque-Bera (JB):               15.357\n",
      "Skew:                          -0.907   Prob(JB):                     0.000463\n",
      "Kurtosis:                       3.295   Cond. No.                         1.00\n",
      "==============================================================================\n",
      "\n",
      "Warnings:\n",
      "[1] Standard Errors assume that the covariance matrix of the errors is correctly specified.\n"
     ]
    }
   ],
   "source": [
    "print(results_HDI.summary())"
   ]
  },
  {
   "cell_type": "markdown",
   "metadata": {},
   "source": [
    "*__ROL_GDP__*"
   ]
  },
  {
   "cell_type": "code",
   "execution_count": 58,
   "metadata": {},
   "outputs": [],
   "source": [
    "influence_GDP = results_GDP.get_influence()"
   ]
  },
  {
   "cell_type": "code",
   "execution_count": 59,
   "metadata": {},
   "outputs": [
    {
     "name": "stdout",
     "output_type": "stream",
     "text": [
      "Parameters:  2017 Rule of Law Index    189.79\n",
      "dtype: float64\n",
      "Standard errors:  2017 Rule of Law Index    7.19\n",
      "dtype: float64\n",
      "R2:  0.87009057111428\n",
      "n:  105.0\n"
     ]
    }
   ],
   "source": [
    "print('Parameters: ', results_GDP.params)\n",
    "print('Standard errors: ', results_GDP.bse)\n",
    "print('R2: ', results_GDP.rsquared)\n",
    "print('n: ', results_GDP.nobs)"
   ]
  },
  {
   "cell_type": "markdown",
   "metadata": {},
   "source": [
    "__Mean Standart Error__"
   ]
  },
  {
   "cell_type": "markdown",
   "metadata": {},
   "source": [
    "*__ROL_GDP__*"
   ]
  },
  {
   "cell_type": "code",
   "execution_count": 60,
   "metadata": {},
   "outputs": [
    {
     "name": "stdout",
     "output_type": "stream",
     "text": [
      "TSS-RSS:  1320550.9708897856\n",
      "RSS:  1895.82410394575\n",
      "TSS:  14454.444549525177\n",
      "F:  696.5577492876806\n"
     ]
    }
   ],
   "source": [
    "print('TSS-RSS: ', results_GDP.mse_model)\n",
    "print('RSS: ', results_GDP.mse_resid)\n",
    "print('TSS: ', results_GDP.mse_total)\n",
    "print('F: ', results_GDP.mse_model/results_GDP.mse_resid)"
   ]
  },
  {
   "cell_type": "markdown",
   "metadata": {},
   "source": [
    "__t values__"
   ]
  },
  {
   "cell_type": "markdown",
   "metadata": {},
   "source": [
    "*__ROL_GDP__*"
   ]
  },
  {
   "cell_type": "code",
   "execution_count": 61,
   "metadata": {},
   "outputs": [
    {
     "data": {
      "text/plain": [
       "2017 Rule of Law Index    26.39\n",
       "dtype: float64"
      ]
     },
     "execution_count": 61,
     "metadata": {},
     "output_type": "execute_result"
    }
   ],
   "source": [
    "results_GDP.tvalues"
   ]
  },
  {
   "cell_type": "markdown",
   "metadata": {},
   "source": [
    "__RSS__"
   ]
  },
  {
   "cell_type": "markdown",
   "metadata": {},
   "source": [
    "*__ROL_GDP__*"
   ]
  },
  {
   "cell_type": "code",
   "execution_count": 62,
   "metadata": {},
   "outputs": [
    {
     "data": {
      "text/plain": [
       "197165.706810358"
      ]
     },
     "execution_count": 62,
     "metadata": {},
     "output_type": "execute_result"
    }
   ],
   "source": [
    "results_GDP.ssr"
   ]
  },
  {
   "cell_type": "code",
   "execution_count": 63,
   "metadata": {},
   "outputs": [
    {
     "data": {
      "text/plain": [
       "197165.7068103581"
      ]
     },
     "execution_count": 63,
     "metadata": {},
     "output_type": "execute_result"
    }
   ],
   "source": [
    "sum(influence_GDP.resid_var)"
   ]
  },
  {
   "cell_type": "markdown",
   "metadata": {},
   "source": [
    "__RSE__"
   ]
  },
  {
   "cell_type": "markdown",
   "metadata": {},
   "source": [
    "*__ROL_GDP__*"
   ]
  },
  {
   "cell_type": "code",
   "execution_count": 64,
   "metadata": {},
   "outputs": [
    {
     "name": "stdout",
     "output_type": "stream",
     "text": [
      "RSE:  43.75191610898155\n"
     ]
    }
   ],
   "source": [
    "# Simple regression\n",
    "\n",
    "n = results_GDP.nobs\n",
    "RSS = results_GDP.ssr\n",
    "RSE = np.sqrt(RSS / (n-2))\n",
    "print('RSE: ', RSE)"
   ]
  },
  {
   "cell_type": "markdown",
   "metadata": {},
   "source": [
    "__Skewness of residuals__"
   ]
  },
  {
   "cell_type": "markdown",
   "metadata": {},
   "source": [
    "*__ROL_GDP__*"
   ]
  },
  {
   "cell_type": "code",
   "execution_count": 65,
   "metadata": {},
   "outputs": [
    {
     "data": {
      "text/plain": [
       "0.8094915227484197"
      ]
     },
     "execution_count": 65,
     "metadata": {},
     "output_type": "execute_result"
    }
   ],
   "source": [
    "results_GDP.resid.skew()"
   ]
  },
  {
   "cell_type": "markdown",
   "metadata": {},
   "source": [
    "__Kurtosis of residuals__"
   ]
  },
  {
   "cell_type": "markdown",
   "metadata": {},
   "source": [
    "*__ROL_GDP__*"
   ]
  },
  {
   "cell_type": "code",
   "execution_count": 66,
   "metadata": {},
   "outputs": [
    {
     "data": {
      "text/plain": [
       "-0.05548285901111871"
      ]
     },
     "execution_count": 66,
     "metadata": {},
     "output_type": "execute_result"
    }
   ],
   "source": [
    "results_GDP.resid.kurtosis()"
   ]
  },
  {
   "cell_type": "markdown",
   "metadata": {},
   "source": [
    "__Jarque-Bera Test of residuals__"
   ]
  },
  {
   "cell_type": "markdown",
   "metadata": {},
   "source": [
    "___Returns___\n",
    "\n",
    "JBfloat or array: The Jarque-Bera test statistic<br>\n",
    "\n",
    "JBpvfloat or array: The pvalue of the test statistic<br>\n",
    "\n",
    "skewfloat or array: Estimated skewness of the data<br>\n",
    "\n",
    "kurtosisfloat or array; Estimated kurtosis of the data<br>"
   ]
  },
  {
   "cell_type": "markdown",
   "metadata": {},
   "source": [
    "*__ROL_GDP__*"
   ]
  },
  {
   "cell_type": "code",
   "execution_count": 67,
   "metadata": {},
   "outputs": [
    {
     "data": {
      "text/plain": [
       "(11.193188837458314,\n",
       " 0.0037104785601433403,\n",
       " 0.7978811603047985,\n",
       " 2.890520417564332)"
      ]
     },
     "execution_count": 67,
     "metadata": {},
     "output_type": "execute_result"
    }
   ],
   "source": [
    "jarque_bera(results_GDP.resid)"
   ]
  },
  {
   "cell_type": "markdown",
   "metadata": {},
   "source": [
    "### Predictions"
   ]
  },
  {
   "cell_type": "markdown",
   "metadata": {},
   "source": [
    "*__ROL_GDP__*"
   ]
  },
  {
   "cell_type": "code",
   "execution_count": 68,
   "metadata": {},
   "outputs": [],
   "source": [
    "predictions_2_GDP = results_GDP.predict(X_GDP)"
   ]
  },
  {
   "cell_type": "markdown",
   "metadata": {},
   "source": [
    "__Predictions or Fitted Values__"
   ]
  },
  {
   "cell_type": "markdown",
   "metadata": {},
   "source": [
    "*__ROL_GDP__*"
   ]
  },
  {
   "cell_type": "code",
   "execution_count": 69,
   "metadata": {},
   "outputs": [
    {
     "data": {
      "text/plain": [
       "0         65\n",
       "1         96\n",
       "2    1.2e+02\n",
       "3    1.1e+02\n",
       "4    1.2e+02\n",
       "dtype: object"
      ]
     },
     "execution_count": 69,
     "metadata": {},
     "output_type": "execute_result"
    }
   ],
   "source": [
    "predictions_2_GDP.head()"
   ]
  },
  {
   "cell_type": "code",
   "execution_count": 70,
   "metadata": {},
   "outputs": [
    {
     "data": {
      "text/plain": [
       "0     65.39\n",
       "1     96.37\n",
       "2    122.68\n",
       "3    110.44\n",
       "4    119.05\n",
       "dtype: float64"
      ]
     },
     "execution_count": 70,
     "metadata": {},
     "output_type": "execute_result"
    }
   ],
   "source": [
    "results_GDP.fittedvalues.head()"
   ]
  },
  {
   "cell_type": "markdown",
   "metadata": {},
   "source": [
    "__Residuals__"
   ]
  },
  {
   "cell_type": "markdown",
   "metadata": {},
   "source": [
    "*__ROL_GDP__*"
   ]
  },
  {
   "cell_type": "code",
   "execution_count": 71,
   "metadata": {},
   "outputs": [
    {
     "data": {
      "text/plain": [
       "0   -41.80\n",
       "1   -29.05\n",
       "2    78.13\n",
       "3    10.36\n",
       "4     6.74\n",
       "dtype: float64"
      ]
     },
     "execution_count": 71,
     "metadata": {},
     "output_type": "execute_result"
    }
   ],
   "source": [
    "results_GDP.resid.head()"
   ]
  },
  {
   "cell_type": "code",
   "execution_count": 72,
   "metadata": {},
   "outputs": [
    {
     "data": {
      "text/plain": [
       "<matplotlib.collections.PathCollection at 0x7fbac49a2410>"
      ]
     },
     "execution_count": 72,
     "metadata": {},
     "output_type": "execute_result"
    },
    {
     "data": {
      "image/png": "[encoded data removed]",
      "text/plain": [
       "<Figure size 432x288 with 1 Axes>"
      ]
     },
     "metadata": {},
     "output_type": "display_data"
    }
   ],
   "source": [
    "plt.scatter(y_GDP,predictions_2_GDP)"
   ]
  },
  {
   "cell_type": "markdown",
   "metadata": {},
   "source": [
    "## Problems"
   ]
  },
  {
   "cell_type": "markdown",
   "metadata": {},
   "source": [
    "### Correlation of error terms"
   ]
  },
  {
   "cell_type": "markdown",
   "metadata": {},
   "source": [
    "__Durbin-Watson test__"
   ]
  },
  {
   "cell_type": "markdown",
   "metadata": {},
   "source": [
    "*__ROL_GDP__*"
   ]
  },
  {
   "cell_type": "code",
   "execution_count": 73,
   "metadata": {},
   "outputs": [
    {
     "data": {
      "text/plain": [
       "1.9642799910744897"
      ]
     },
     "execution_count": 73,
     "metadata": {},
     "output_type": "execute_result"
    }
   ],
   "source": [
    "dw = durbin_watson(results_GDP.resid)\n",
    "dw"
   ]
  },
  {
   "cell_type": "code",
   "execution_count": 74,
   "metadata": {},
   "outputs": [],
   "source": [
    "def durbin_watson_test(dL=0, dU=0): # 5% level of significance\n",
    "    if dw < dL:\n",
    "        print('Autocorrelation exists')\n",
    "    elif dw > dU:\n",
    "        print('Autocorrelation does not exist')\n",
    "    else:\n",
    "        print('Test is inconclusive')"
   ]
  },
  {
   "cell_type": "code",
   "execution_count": 75,
   "metadata": {},
   "outputs": [
    {
     "name": "stdout",
     "output_type": "stream",
     "text": [
      "Autocorrelation does not exist\n"
     ]
    }
   ],
   "source": [
    "durbin_watson_test(1.21, 1.55)"
   ]
  },
  {
   "cell_type": "markdown",
   "metadata": {},
   "source": [
    "### Heteroscedasticity"
   ]
  },
  {
   "cell_type": "markdown",
   "metadata": {},
   "source": [
    "*__ROL_GDP__*"
   ]
  },
  {
   "cell_type": "code",
   "execution_count": 76,
   "metadata": {},
   "outputs": [
    {
     "data": {
      "image/png": "[encoded data removed]",
      "text/plain": [
       "<Figure size 432x288 with 1 Axes>"
      ]
     },
     "metadata": {},
     "output_type": "display_data"
    }
   ],
   "source": [
    "plt.scatter(predictions_2_GDP, results_GDP.resid);"
   ]
  },
  {
   "cell_type": "code",
   "execution_count": 77,
   "metadata": {},
   "outputs": [
    {
     "data": {
      "text/html": [
       "<div>\n",
       "<style scoped>\n",
       "    .dataframe tbody tr th:only-of-type {\n",
       "        vertical-align: middle;\n",
       "    }\n",
       "\n",
       "    .dataframe tbody tr th {\n",
       "        vertical-align: top;\n",
       "    }\n",
       "\n",
       "    .dataframe thead th {\n",
       "        text-align: right;\n",
       "    }\n",
       "</style>\n",
       "<table border=\"1\" class=\"dataframe\">\n",
       "  <thead>\n",
       "    <tr style=\"text-align: right;\">\n",
       "      <th></th>\n",
       "      <th>Country</th>\n",
       "      <th>2017 GDP per Capita</th>\n",
       "      <th>2017 Rule of Law Index</th>\n",
       "      <th>Residuals</th>\n",
       "    </tr>\n",
       "  </thead>\n",
       "  <tbody>\n",
       "    <tr>\n",
       "      <th>0</th>\n",
       "      <td>Afghanistan</td>\n",
       "      <td>23.59</td>\n",
       "      <td>0.34</td>\n",
       "      <td>-41.80</td>\n",
       "    </tr>\n",
       "    <tr>\n",
       "      <th>1</th>\n",
       "      <td>Albania</td>\n",
       "      <td>67.33</td>\n",
       "      <td>0.51</td>\n",
       "      <td>-29.05</td>\n",
       "    </tr>\n",
       "    <tr>\n",
       "      <th>2</th>\n",
       "      <td>United Arab Emirates</td>\n",
       "      <td>200.81</td>\n",
       "      <td>0.65</td>\n",
       "      <td>78.13</td>\n",
       "    </tr>\n",
       "    <tr>\n",
       "      <th>3</th>\n",
       "      <td>Argentina</td>\n",
       "      <td>120.80</td>\n",
       "      <td>0.58</td>\n",
       "      <td>10.36</td>\n",
       "    </tr>\n",
       "    <tr>\n",
       "      <th>4</th>\n",
       "      <td>Antigua and Barbuda</td>\n",
       "      <td>125.80</td>\n",
       "      <td>0.63</td>\n",
       "      <td>6.74</td>\n",
       "    </tr>\n",
       "  </tbody>\n",
       "</table>\n",
       "</div>"
      ],
      "text/plain": [
       "                Country  2017 GDP per Capita 2017 Rule of Law Index  Residuals\n",
       "0           Afghanistan                23.59                   0.34     -41.80\n",
       "1               Albania                67.33                   0.51     -29.05\n",
       "2  United Arab Emirates               200.81                   0.65      78.13\n",
       "3             Argentina               120.80                   0.58      10.36\n",
       "4   Antigua and Barbuda               125.80                   0.63       6.74"
      ]
     },
     "execution_count": 77,
     "metadata": {},
     "output_type": "execute_result"
    }
   ],
   "source": [
    "heteroscedasticity_GDP = ROL_GDP\n",
    "heteroscedasticity_GDP['Residuals'] = results_GDP.resid\n",
    "heteroscedasticity_GDP.head()"
   ]
  },
  {
   "cell_type": "code",
   "execution_count": 78,
   "metadata": {},
   "outputs": [
    {
     "data": {
      "image/png": "[encoded data removed]",
      "text/plain": [
       "<Figure size 540x540 with 12 Axes>"
      ]
     },
     "metadata": {},
     "output_type": "display_data"
    }
   ],
   "source": [
    "sns.pairplot(heteroscedasticity_GDP);"
   ]
  },
  {
   "cell_type": "markdown",
   "metadata": {},
   "source": [
    "__Breush-Pagan test__<br>\n",
    "*If the test statistic has a p-value below an appropriate threshold (e.g. p < 0.05) then the null hypothesis of homoskedasticity is rejected and heteroskedasticity assumed.*"
   ]
  },
  {
   "cell_type": "markdown",
   "metadata": {},
   "source": [
    "*__ROL_GDP__*"
   ]
  },
  {
   "cell_type": "code",
   "execution_count": 79,
   "metadata": {},
   "outputs": [
    {
     "name": "stdout",
     "output_type": "stream",
     "text": [
      "('Lagrange multiplier statistic', 51.792774519067365)\n",
      "('p-value', nan)\n",
      "('f-value', 101.23528339047287)\n",
      "('f p-value', 4.9017845806521355e-17)\n"
     ]
    }
   ],
   "source": [
    "name = ['Lagrange multiplier statistic', 'p-value',\n",
    "        'f-value', 'f p-value']\n",
    "test = het_breuschpagan(results_GDP.resid, results_GDP.model.exog)\n",
    "lzip = zip(name, test)\n",
    "for _ in lzip:\n",
    "    print(_)"
   ]
  },
  {
   "cell_type": "markdown",
   "metadata": {},
   "source": [
    "### Outliers, Leverage and Influence<br>\n",
    "\n",
    "https://www.statsmodels.org/dev/examples/notebooks/generated/regression_plots.html"
   ]
  },
  {
   "cell_type": "markdown",
   "metadata": {},
   "source": [
    "__Studentized residuals__"
   ]
  },
  {
   "cell_type": "markdown",
   "metadata": {},
   "source": [
    "*__ROL_GDP__*"
   ]
  },
  {
   "cell_type": "code",
   "execution_count": 80,
   "metadata": {},
   "outputs": [
    {
     "data": {
      "text/plain": [
       "array([-0.96157494, -0.66950442,  1.8047149 ,  0.238971  ,  0.15566753,\n",
       "        1.83378516,  1.46515767,  1.43123606, -1.63181315, -0.87691692,\n",
       "       -0.23511526, -0.62103316, -0.49273532, -0.45093123, -0.33714579,\n",
       "       -0.05698582,  0.1019797 , -0.50244359,  1.3586397 , -0.08515148,\n",
       "       -0.02921226, -1.14821984, -0.72956351, -0.36209394, -0.49412111,\n",
       "        0.06428166,  1.22713592, -0.69299165,  1.62407085, -0.07641635,\n",
       "       -0.24050153,  0.8003058 , -0.20900197, -1.00939266,  1.13510906,\n",
       "        1.31509943,  1.07849373, -1.20267604, -1.5522563 ,  0.53407972,\n",
       "       -0.34724346, -0.37948595, -0.6368904 ,  1.6024684 , -0.62356104,\n",
       "       -0.00644763,  0.36670741, -0.83343229, -1.23902638,  1.30001414,\n",
       "       -0.88219502, -1.12346026,  1.08042053, -0.05774438, -1.04238088,\n",
       "       -0.54805252,  0.29434341, -0.01132046, -1.37119586, -0.4418495 ,\n",
       "       -0.81489436, -0.95463243, -0.9399073 , -1.41839214,  0.23130657,\n",
       "       -1.02533252, -0.98285109, -1.79901372, -0.0235468 , -0.88707449,\n",
       "       -0.82590316,  1.34753788,  2.47650513, -1.60694088,  1.12818127,\n",
       "       -0.8298439 ,  0.56345193, -0.39725151, -0.79180916, -0.22086291,\n",
       "        0.22439153, -0.46915159, -1.55313679,  2.18938683, -1.46984176,\n",
       "       -0.65891534, -0.35759318, -0.53051473,  0.59769342,  1.55252609,\n",
       "       -0.33769723,  0.48573999, -0.97279437,  0.53849589, -1.32061973,\n",
       "       -1.17777833, -0.99061568, -0.15097486,  2.45449928, -1.02369845,\n",
       "       -0.72018856, -1.06947143, -0.77017947, -1.16206799, -0.7068069 ])"
      ]
     },
     "execution_count": 80,
     "metadata": {},
     "output_type": "execute_result"
    }
   ],
   "source": [
    "influence_GDP.resid_studentized"
   ]
  },
  {
   "cell_type": "code",
   "execution_count": 81,
   "metadata": {},
   "outputs": [
    {
     "data": {
      "text/html": [
       "<div>\n",
       "<style scoped>\n",
       "    .dataframe tbody tr th:only-of-type {\n",
       "        vertical-align: middle;\n",
       "    }\n",
       "\n",
       "    .dataframe tbody tr th {\n",
       "        vertical-align: top;\n",
       "    }\n",
       "\n",
       "    .dataframe thead th {\n",
       "        text-align: right;\n",
       "    }\n",
       "</style>\n",
       "<table border=\"1\" class=\"dataframe\">\n",
       "  <thead>\n",
       "    <tr style=\"text-align: right;\">\n",
       "      <th></th>\n",
       "      <th>student_resid</th>\n",
       "      <th>unadj_p</th>\n",
       "      <th>bonf(p)</th>\n",
       "    </tr>\n",
       "  </thead>\n",
       "  <tbody>\n",
       "    <tr>\n",
       "      <th>0</th>\n",
       "      <td>-0.96</td>\n",
       "      <td>0.34</td>\n",
       "      <td>1.0</td>\n",
       "    </tr>\n",
       "    <tr>\n",
       "      <th>1</th>\n",
       "      <td>-0.67</td>\n",
       "      <td>0.51</td>\n",
       "      <td>1.0</td>\n",
       "    </tr>\n",
       "    <tr>\n",
       "      <th>2</th>\n",
       "      <td>1.82</td>\n",
       "      <td>0.07</td>\n",
       "      <td>1.0</td>\n",
       "    </tr>\n",
       "    <tr>\n",
       "      <th>3</th>\n",
       "      <td>0.24</td>\n",
       "      <td>0.81</td>\n",
       "      <td>1.0</td>\n",
       "    </tr>\n",
       "    <tr>\n",
       "      <th>4</th>\n",
       "      <td>0.15</td>\n",
       "      <td>0.88</td>\n",
       "      <td>1.0</td>\n",
       "    </tr>\n",
       "  </tbody>\n",
       "</table>\n",
       "</div>"
      ],
      "text/plain": [
       "   student_resid  unadj_p  bonf(p)\n",
       "0          -0.96     0.34      1.0\n",
       "1          -0.67     0.51      1.0\n",
       "2           1.82     0.07      1.0\n",
       "3           0.24     0.81      1.0\n",
       "4           0.15     0.88      1.0"
      ]
     },
     "execution_count": 81,
     "metadata": {},
     "output_type": "execute_result"
    }
   ],
   "source": [
    "studentized_residuals_table_GDP = results_GDP.outlier_test()\n",
    "studentized_residuals_table_GDP.head()"
   ]
  },
  {
   "cell_type": "code",
   "execution_count": 82,
   "metadata": {},
   "outputs": [
    {
     "data": {
      "text/plain": [
       "0   -0.96\n",
       "1   -0.67\n",
       "2    1.82\n",
       "3    0.24\n",
       "4    0.15\n",
       "Name: student_resid, dtype: float64"
      ]
     },
     "execution_count": 82,
     "metadata": {},
     "output_type": "execute_result"
    }
   ],
   "source": [
    "studentized_residuals_GDP=studentized_residuals_table_GDP['student_resid']\n",
    "studentized_residuals_GDP.head()"
   ]
  },
  {
   "cell_type": "code",
   "execution_count": 83,
   "metadata": {},
   "outputs": [
    {
     "data": {
      "image/png": "[encoded data removed]",
      "text/plain": [
       "<Figure size 432x288 with 1 Axes>"
      ]
     },
     "metadata": {},
     "output_type": "display_data"
    }
   ],
   "source": [
    "sns.distplot(studentized_residuals_GDP, axlabel='Studentized residuals', bins=50);"
   ]
  },
  {
   "cell_type": "markdown",
   "metadata": {},
   "source": [
    "__Cook's distance__<br>\n",
    "http://mpastell.com/2013/04/19/python_regression/<br>\n",
    "\n",
    "*Outlier if greater than 1 or 4/n or 4/(n-p)*"
   ]
  },
  {
   "cell_type": "markdown",
   "metadata": {},
   "source": [
    "*__ROL_GDP__*"
   ]
  },
  {
   "cell_type": "code",
   "execution_count": 84,
   "metadata": {},
   "outputs": [
    {
     "name": "stdout",
     "output_type": "stream",
     "text": [
      "[3.00325306e-03 3.17501416e-03 3.75491176e-02 5.32374348e-04\n",
      " 2.62918099e-04 6.10508650e-02 3.94947284e-02 3.39723407e-02\n",
      " 1.87692590e-02 3.52648751e-03 4.29538518e-04 2.96577694e-03\n",
      " 1.75256109e-03 1.25433137e-03 4.54737807e-04 2.57238044e-05\n",
      " 1.21252177e-04 2.36125708e-03 3.36106334e-02 8.86742375e-05\n",
      " 5.85445192e-06 8.01076704e-03 1.94906578e-03 9.12978170e-04\n",
      " 3.15459056e-03 6.22363543e-05 2.91876477e-02 4.72261973e-03\n",
      " 5.84925076e-02 3.46849084e-05 3.51139271e-04 8.74138526e-03\n",
      " 7.69017339e-04 3.96833824e-03 2.71594941e-02 2.59938907e-02\n",
      " 2.10722459e-02 1.48135330e-02 2.32215268e-02 2.84903886e-03\n",
      " 1.23821376e-03 7.61478978e-04 2.81234064e-03 4.20016329e-02\n",
      " 1.72697894e-03 4.27721228e-07 1.10175210e-03 5.09905990e-03\n",
      " 1.13081234e-02 1.95993659e-02 7.11477294e-03 1.23772885e-02\n",
      " 1.99986462e-02 2.41940569e-05 5.95811751e-03 8.50084165e-04\n",
      " 1.04278140e-03 7.73783705e-07 1.05819297e-02 2.12170353e-03\n",
      " 5.00749292e-03 6.47484194e-03 5.82254276e-03 1.04924699e-02\n",
      " 3.03426747e-04 5.10566117e-03 7.85686388e-03 2.31958341e-02\n",
      " 4.36885595e-06 4.11581545e-03 3.52804572e-03 3.68663100e-02\n",
      " 1.34727071e-01 1.95900481e-02 2.41813468e-02 2.89528458e-03\n",
      " 2.35983268e-03 1.18218103e-03 3.78164121e-03 6.05959101e-04\n",
      " 7.17545679e-04 2.60132809e-03 2.00451500e-02 8.42810503e-02\n",
      " 1.22151209e-02 2.74389371e-03 8.76015540e-04 1.99296883e-03\n",
      " 4.43611617e-03 5.00248555e-02 7.97409741e-04 2.01443878e-03\n",
      " 7.41193257e-03 1.37966346e-03 1.05308676e-02 6.14221076e-03\n",
      " 6.66348490e-03 3.17712050e-04 8.90782211e-02 6.06677096e-03\n",
      " 5.31663267e-03 7.87796395e-03 5.64868865e-03 8.26373336e-03\n",
      " 1.90067962e-03]\n",
      "[0.95640139 0.95517328 0.84672929 0.98163606 0.98709413 0.80532975\n",
      " 0.84285975 0.85412459 0.89129492 0.95276003 0.98350449 0.95667399\n",
      " 0.9666877  0.97181548 0.98302759 0.99596297 0.9912354  0.96133703\n",
      " 0.85489445 0.99250471 0.99807408 0.9288544  0.96487091 0.97595307\n",
      " 0.95531754 0.99372067 0.86467843 0.9453434  0.8093709  0.99531226\n",
      " 0.98508545 0.92568991 0.97792971 0.9498916  0.86942022 0.87222802\n",
      " 0.88486328 0.90336287 0.87917766 0.95753441 0.97199707 0.97803813\n",
      " 0.95780854 0.83801723 0.96693158 0.99947943 0.97358458 0.94321042\n",
      " 0.91551772 0.88893255 0.93294102 0.91162994 0.88781443 0.99608485\n",
      " 0.93862162 0.97679589 0.97430098 0.99929983 0.91826543 0.9633492\n",
      " 0.94372177 0.93602096 0.93932258 0.91861043 0.98613561 0.94317373\n",
      " 0.92953931 0.87924399 0.99833628 0.94897026 0.95274961 0.84811189\n",
      " 0.71432613 0.88895878 0.8767258  0.95719148 0.96134868 0.97263776\n",
      " 0.95108298 0.98040824 0.97868092 0.95942079 0.88768495 0.77215565\n",
      " 0.91220837 0.95832465 0.97644474 0.96447773 0.94702469 0.82345879\n",
      " 0.97752609 0.96428703 0.93155835 0.97044154 0.91846217 0.93768253\n",
      " 0.9350977  0.98581303 0.7659478  0.93806563 0.94201361 0.92944501\n",
      " 0.94023357 0.92774287 0.96530941]\n"
     ]
    }
   ],
   "source": [
    "#c is the distance and p is p-value\n",
    "\n",
    "(c_GDP, p_GDP) = influence_GDP.cooks_distance\n",
    "print(c_GDP)\n",
    "print(p_GDP)"
   ]
  },
  {
   "cell_type": "code",
   "execution_count": 85,
   "metadata": {},
   "outputs": [
    {
     "data": {
      "image/png": "[encoded data removed]",
      "text/plain": [
       "<Figure size 1296x432 with 1 Axes>"
      ]
     },
     "metadata": {},
     "output_type": "display_data"
    }
   ],
   "source": [
    "fig, ax = plt.subplots(figsize=(18,6))\n",
    "plt.stem(np.arange(len(c_GDP)), c_GDP, markerfmt=\",\", use_line_collection=True, );"
   ]
  },
  {
   "cell_type": "code",
   "execution_count": 87,
   "metadata": {},
   "outputs": [
    {
     "data": {
      "image/png": "[encoded data removed]",
      "text/plain": [
       "<Figure size 432x288 with 1 Axes>"
      ]
     },
     "execution_count": 87,
     "metadata": {},
     "output_type": "execute_result"
    },
    {
     "data": {
      "image/png": "[encoded data removed]",
      "text/plain": [
       "<Figure size 432x288 with 1 Axes>"
      ]
     },
     "metadata": {},
     "output_type": "display_data"
    }
   ],
   "source": [
    "plot_leverage_resid2(results_GDP)"
   ]
  },
  {
   "cell_type": "code",
   "execution_count": 95,
   "metadata": {},
   "outputs": [
    {
     "data": {
      "image/png": "[encoded data removed]",
      "text/plain": [
       "<Figure size 1224x1224 with 1 Axes>"
      ]
     },
     "metadata": {},
     "output_type": "display_data"
    }
   ],
   "source": [
    "fig, ax = plt.subplots(figsize=(17,17))\n",
    "fig = sm.graphics.influence_plot(results_GDP, alpha  = 0.05, ax = ax, criterion=\"cooks\")"
   ]
  },
  {
   "cell_type": "markdown",
   "metadata": {},
   "source": [
    "### Multicollinearity"
   ]
  },
  {
   "cell_type": "markdown",
   "metadata": {},
   "source": [
    "__Condition number__<br>\n",
    "*One way to assess multicollinearity is to compute the condition number. Values over 20 are worrisome*"
   ]
  },
  {
   "cell_type": "markdown",
   "metadata": {},
   "source": [
    "*__ROL_GDP__*"
   ]
  },
  {
   "cell_type": "code",
   "execution_count": 96,
   "metadata": {},
   "outputs": [
    {
     "data": {
      "text/plain": [
       "1.0"
      ]
     },
     "execution_count": 96,
     "metadata": {},
     "output_type": "execute_result"
    }
   ],
   "source": [
    "np.linalg.cond(results_GDP.model.exog)"
   ]
  },
  {
   "cell_type": "markdown",
   "metadata": {},
   "source": [
    "__Sorting__"
   ]
  },
  {
   "cell_type": "code",
   "execution_count": 97,
   "metadata": {},
   "outputs": [
    {
     "data": {
      "text/html": [
       "<div>\n",
       "<style scoped>\n",
       "    .dataframe tbody tr th:only-of-type {\n",
       "        vertical-align: middle;\n",
       "    }\n",
       "\n",
       "    .dataframe tbody tr th {\n",
       "        vertical-align: top;\n",
       "    }\n",
       "\n",
       "    .dataframe thead th {\n",
       "        text-align: right;\n",
       "    }\n",
       "</style>\n",
       "<table border=\"1\" class=\"dataframe\">\n",
       "  <thead>\n",
       "    <tr style=\"text-align: right;\">\n",
       "      <th></th>\n",
       "      <th>Country</th>\n",
       "      <th>Scores</th>\n",
       "    </tr>\n",
       "  </thead>\n",
       "  <tbody>\n",
       "    <tr>\n",
       "      <th>0</th>\n",
       "      <td>Afghanistan</td>\n",
       "      <td>0.34</td>\n",
       "    </tr>\n",
       "    <tr>\n",
       "      <th>1</th>\n",
       "      <td>Albania</td>\n",
       "      <td>0.49</td>\n",
       "    </tr>\n",
       "    <tr>\n",
       "      <th>2</th>\n",
       "      <td>Argentina</td>\n",
       "      <td>0.5</td>\n",
       "    </tr>\n",
       "    <tr>\n",
       "      <th>3</th>\n",
       "      <td>Australia</td>\n",
       "      <td>0.8</td>\n",
       "    </tr>\n",
       "    <tr>\n",
       "      <th>4</th>\n",
       "      <td>Austria</td>\n",
       "      <td>0.82</td>\n",
       "    </tr>\n",
       "    <tr>\n",
       "      <th>5</th>\n",
       "      <td>Bangladesh</td>\n",
       "      <td>0.39</td>\n",
       "    </tr>\n",
       "    <tr>\n",
       "      <th>6</th>\n",
       "      <td>Belarus</td>\n",
       "      <td>0.51</td>\n",
       "    </tr>\n",
       "    <tr>\n",
       "      <th>7</th>\n",
       "      <td>Belgium</td>\n",
       "      <td>0.76</td>\n",
       "    </tr>\n",
       "    <tr>\n",
       "      <th>8</th>\n",
       "      <td>Bolivia</td>\n",
       "      <td>0.39</td>\n",
       "    </tr>\n",
       "    <tr>\n",
       "      <th>9</th>\n",
       "      <td>Bosnia and Herzegovina</td>\n",
       "      <td>0.55</td>\n",
       "    </tr>\n",
       "  </tbody>\n",
       "</table>\n",
       "</div>"
      ],
      "text/plain": [
       "                  Country Scores\n",
       "0             Afghanistan   0.34\n",
       "1                 Albania   0.49\n",
       "2               Argentina    0.5\n",
       "3               Australia    0.8\n",
       "4                 Austria   0.82\n",
       "5              Bangladesh   0.39\n",
       "6                 Belarus   0.51\n",
       "7                 Belgium   0.76\n",
       "8                 Bolivia   0.39\n",
       "9  Bosnia and Herzegovina   0.55"
      ]
     },
     "execution_count": 97,
     "metadata": {},
     "output_type": "execute_result"
    }
   ],
   "source": [
    "RuleOfLaw = pd.read_excel('ROL_Historical.xlsx', sheet_name='WJP ROL Index 2014 Scores')\n",
    "RuleOfLaw = RuleOfLaw.transpose()\n",
    "RuleOfLaw=RuleOfLaw.iloc[:,3]\n",
    "RuleOfLaw = RuleOfLaw.to_frame()\n",
    "RuleOfLaw.drop('Country', inplace=True)\n",
    "RuleOfLaw.reset_index(drop = False, inplace = True)\n",
    "RuleOfLaw.rename(columns={'index':'Country', 3: 'Scores'}, inplace=True)\n",
    "RuleOfLaw.head(10)"
   ]
  }
 ],
 "metadata": {
  "kernelspec": {
   "display_name": "Python 3",
   "language": "python",
   "name": "python3"
  },
  "language_info": {
   "codemirror_mode": {
    "name": "ipython",
    "version": 3
   },
   "file_extension": ".py",
   "mimetype": "text/x-python",
   "name": "python",
   "nbconvert_exporter": "python",
   "pygments_lexer": "ipython3",
   "version": "3.7.6"
  }
 },
 "nbformat": 4,
 "nbformat_minor": 2
}
